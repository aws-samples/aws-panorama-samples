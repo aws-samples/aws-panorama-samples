{
    "cells": [
     {
      "cell_type": "markdown",
      "id": "20d791a0",
      "metadata": {
       "tags": []
      },
      "source": [
       "# Car Tracker \n",
       "\n",
       "\n",
       "This notebook shows how to build a simple car dwell time tracker a pretrained SSD Mobilenet Tensorflow Object Detection Model and a Centroid Tracker.\n",
       "\n",
       "By completing this notebook, you will learn:\n",
       "* How to write a Python script for your app that takes in camera streams, performs inference, and outputs results\n",
       "* How to use a Tensorflow Object Detection model with Panorama\n",
       "* How to bundle additional Python files and libraries with your container\n",
       "* How to build a simple car tracker\n",
       "\n",
       "--- \n",
       "\n",
       "1. [Prerequisites](#Prerequisites)\n",
       "1. [Set up](#Set-up)\n",
       "1. [Download model](#Download-model)\n",
       "1. [Build application](#Build-application)\n",
       "1. [Upload application](#Upload-application)\n",
       "1. [Deploy application](#Deploy-application)"
      ]
     },
     {
      "cell_type": "markdown",
      "id": "6d28ad3d",
      "metadata": {},
      "source": [
       "# Prerequisites\n",
       "\n",
       "1. In a terminal session on this Jupyter notebook server, run `aws configure`. This allows this notebook server to access Panorama resources on your behalf."
      ]
     },
     {
      "cell_type": "markdown",
      "id": "978aba4d",
      "metadata": {},
      "source": [
       "# Set Up\n",
       "Import libraries for use with this notebook environment, you do not need these libraries when you write your application code. Run these 3 cells every time you update your app code and restart your kernel."
      ]
     },
     {
      "cell_type": "code",
      "execution_count": null,
      "id": "b3214491",
      "metadata": {},
      "outputs": [],
      "source": [
       "import sys\n",
       "import os\n",
       "import time\n",
       "import json\n",
       "\n",
       "import boto3\n",
       "import sagemaker\n",
       "\n",
       "import matplotlib.pyplot as plt\n",
       "from IPython.core.magic import register_cell_magic\n",
       "\n",
       "sys.path.insert( 0, os.path.abspath( \"../common/test_utility\" ) )\n",
       "import panorama_test_utility\n",
       "\n",
       "# instantiate boto3 clients\n",
       "s3_client = boto3.client('s3')\n",
       "panorama_client = boto3.client('panorama')\n",
       "\n",
       "# configure matplotlib\n",
       "%matplotlib inline\n",
       "plt.rcParams[\"figure.figsize\"] = (20,20)\n",
       "\n",
       "# register custom magic command\n",
       "@register_cell_magic\n",
       "def save_cell(line, cell):\n",
       "    'Save python code block to a file'\n",
       "    with open(line, 'wt') as fd:\n",
       "        fd.write(cell)"
      ]
     },
     {
      "cell_type": "markdown",
      "id": "15beab6c",
      "metadata": {
       "tags": []
      },
      "source": [
       "## Notebook parameters\n",
       "\n",
       "Global constants that help the notebook create Panorama resources on your behalf."
      ]
     },
     {
      "cell_type": "code",
      "execution_count": null,
      "id": "5b6fac93",
      "metadata": {},
      "outputs": [],
      "source": [
       "ML_MODEL_FNAME = 'ssd_mobilenet_v2_coco_tf_trt'"
      ]
     },
     {
      "cell_type": "code",
      "execution_count": null,
      "id": "da90acb0",
      "metadata": {
       "tags": []
      },
      "outputs": [],
      "source": [
       "app_name = 'car_tracker_app'\n",
       "code_package_name = 'CAR_TRACKER_CODE'\n",
       "\n",
       "# AWS account ID\n",
       "account_id = boto3.client(\"sts\").get_caller_identity()[\"Account\"]"
      ]
     },
     {
      "cell_type": "markdown",
      "id": "d10538b4",
      "metadata": {},
      "source": [
       "## Set up application\n",
       "\n",
       "Every application uses the creator's AWS Account ID as the prefix to uniquely identifies the application resources. Running `panorama-cli import-application` replaces the generic account Id with your account Id."
      ]
     },
     {
      "cell_type": "code",
      "execution_count": null,
      "id": "d017f0bd",
      "metadata": {},
      "outputs": [],
      "source": [
       "!cd ./car_tracker_app && panorama-cli import-application"
      ]
     },
     {
      "cell_type": "markdown",
      "id": "8933b6d8",
      "metadata": {
       "tags": []
      },
      "source": [
       "# Download model\n",
       "\n",
       "While working with the Panorama sample code, we provide pretrained models for you to use. Locally, our models need to be accessible by the application container, so we will store them in the `car_tracker/car_tracker_app/packages/(account_id)-CAR_TRACKER_CODE-1.0/src` folder. This step downloads the model artifacts from our Amazon S3 bucket to the local folder. If you want to use your own models, put your tar.gz file into the folder."
      ]
     },
     {
      "cell_type": "code",
      "execution_count": null,
      "id": "ca75fc18",
      "metadata": {
       "tags": []
      },
      "outputs": [],
      "source": [
       "# Downloads pretrained model for this sample.\n",
       "# This step takes some time, depending on your network environment.\n",
       "panorama_test_utility.download_sample_model( ML_MODEL_FNAME, f\"./car_tracker_app/packages/{account_id}-{code_package_name}-1.0/src\" )\n",
       "\n",
       "# Unpack the downloaded model tarball\n",
       "!cd ./car_tracker_app/packages/{account_id}-{code_package_name}-1.0/src && tar -xvzf {ML_MODEL_FNAME}.tar.gz && rm {ML_MODEL_FNAME}.tar.gz"
      ]
     },
     {
      "cell_type": "markdown",
      "id": "bb318878",
      "metadata": {},
      "source": [
       "### Build application"
      ]
     },
     {
      "cell_type": "code",
      "execution_count": null,
      "id": "80b6c66c",
      "metadata": {},
      "outputs": [],
      "source": [
       "container_asset_name = 'code_asset'"
      ]
     },
     {
      "cell_type": "code",
      "execution_count": null,
      "id": "783e965b",
      "metadata": {},
      "outputs": [],
      "source": [
       "%%capture captured_output\n",
       "\n",
       "# Building container image.This process takes time (5min ~ 10min)\n",
       "# FIXME : without %%capture, browser tab crashes because of too much output from the command.\n",
       "\n",
       "!cd ./car_tracker_app && panorama-cli build \\\n",
       "    --container-asset-name {container_asset_name} \\\n",
       "    --package-path packages/{account_id}-{code_package_name}-1.0"
      ]
     },
     {
      "cell_type": "code",
      "execution_count": null,
      "id": "4de3b376-2ad5-4fca-9512-8dddd59ff2b9",
      "metadata": {},
      "outputs": [],
      "source": [
       "stdout_lines = captured_output.stdout.splitlines()\n",
       "stderr_lines = captured_output.stderr.splitlines()\n",
       "print(\"     :\")\n",
       "print(\"     :\")\n",
       "for line in stdout_lines[-30:] + stderr_lines[-30:]:\n",
       "    print(line)"
      ]
     },
     {
      "cell_type": "markdown",
      "id": "eecc203e",
      "metadata": {},
      "source": [
       "### Special flags in package.json\n",
       "\n",
       "* Step 1 : Before you deploy the application, open car_tracker/car_tracker_app/packages/(account-id)-CAR_TRACKER_CODE-1.0/package.json\n",
       "* Step 2 : Add the following flags to the package.json\n",
       "\n",
       "```\n",
       "\"requirements\": \n",
       "            [{\n",
       "                    \"type\" : \"hardware_access\",\n",
       "                    \"nvAccelerators\": [ \n",
       "                        {\n",
       "                            \"deviceType\": \"nvhost_gpu\",\n",
       "                            \"sharedResourcePolicy\": {\n",
       "                                \"policy\" : \"allow_all\"\n",
       "                            }\n",
       "                        }\n",
       "                    ]\n",
       "            }]\n",
       "```\n",
       "\n",
       "The assets should look something like this\n",
       "\n",
       "```\n",
       "\"assets\": [\n",
       "    {\n",
       "        \"name\": \"code_asset\",\n",
       "        \"implementations\": [\n",
       "            {\n",
       "                \"type\": \"container\",\n",
       "                \"assetUri\": \"9a49a98784f4571adacc417f00942dac7ef2e34686eef21dca9fcb7f4b7ffd70.tar.gz\",\n",
       "                \"descriptorUri\": \"4bab130ec48eea84e072d9fe813b947e9d9610b2924099036b0165026a91d306.json\",\n",
       "                \"requirements\": \n",
       "                [{\n",
       "                    \"type\" : \"hardware_access\",\n",
       "                    \"nvAccelerators\": [ \n",
       "                        {\n",
       "                            \"deviceType\": \"nvhost_gpu\",\n",
       "                            \"sharedResourcePolicy\": {\n",
       "                                \"policy\" : \"allow_all\"\n",
       "                            }\n",
       "                        }\n",
       "                    ]\n",
       "                }]\n",
       "            }\n",
       "        ]\n",
       "    }\n",
       "],\n",
       "```"
      ]
     },
     {
      "cell_type": "markdown",
      "id": "e1a21ace",
      "metadata": {},
      "source": [
       "### Upload application"
      ]
     },
     {
      "cell_type": "code",
      "execution_count": null,
      "id": "70ed5aa3",
      "metadata": {},
      "outputs": [],
      "source": [
       "# This step takes some time, depending on your network environment.\n",
       "!cd ./car_tracker_app && panorama-cli package-application"
      ]
     },
     {
      "cell_type": "markdown",
      "id": "55b10936",
      "metadata": {},
      "source": [
       "### Ready for deploying to a device\n",
       "\n",
       "Congrats! Your app is now ready to deploy to a device. Next, go to the Panorama console and deploy using the GUI. The GUI makes it easy to select camera streams and the devices that you want to deploy to."
      ]
     },
     {
      "cell_type": "markdown",
      "id": "9d82cc29-5089-4110-a73c-950e9c4d4c9c",
      "metadata": {},
      "source": [
       "#### Deploy Application"
      ]
     },
     {
      "cell_type": "markdown",
      "id": "35fcd859",
      "metadata": {},
      "source": [
       "* Step 1: Copy the contents of `car_tracker/car_tracker_app/graphs/car_tracker_app/graph.json`\n",
       "* Step 2 : Go to the AWS Panorama Console, click Deploy Application\n",
       "* Step 3 : Paste the contents you just copied\n",
       "* Step 4 : Select the target device to deploy to\n",
       "* Step 5: Select the camera that you want to use\n",
       "* Step 6 : Deploy!\n",
       "\n",
       "This can take some time (~30 minutes), depending on your network conditions."
      ]
     }
    ],
    "metadata": {
     "kernelspec": {
      "display_name": "Python 3 (ipykernel)",
      "language": "python",
      "name": "python3"
     },
     "language_info": {
      "codemirror_mode": {
       "name": "ipython",
       "version": 3
      },
      "file_extension": ".py",
      "mimetype": "text/x-python",
      "name": "python",
      "nbconvert_exporter": "python",
      "pygments_lexer": "ipython3",
      "version": "3.7.5"
     }
    },
    "nbformat": 4,
    "nbformat_minor": 5
   }
   